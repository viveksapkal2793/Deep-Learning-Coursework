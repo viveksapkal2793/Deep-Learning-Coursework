{
  "nbformat": 4,
  "nbformat_minor": 0,
  "metadata": {
    "colab": {
      "provenance": [],
      "gpuType": "T4"
    },
    "kernelspec": {
      "name": "python3",
      "display_name": "Python 3"
    },
    "language_info": {
      "name": "python"
    },
    "accelerator": "GPU"
  },
  "cells": [
    {
      "cell_type": "code",
      "execution_count": null,
      "metadata": {
        "id": "_YG1EPrK4uFu",
        "colab": {
          "base_uri": "https://localhost:8080/"
        },
        "outputId": "550ccde9-cf01-4824-9712-f0cfdc25689e"
      },
      "outputs": [
        {
          "output_type": "stream",
          "name": "stdout",
          "text": [
            "Requirement already satisfied: optuna in c:\\users\\91883\\appdata\\local\\programs\\python\\python311\\lib\\site-packages (4.2.0)\n",
            "Requirement already satisfied: alembic>=1.5.0 in c:\\users\\91883\\appdata\\local\\programs\\python\\python311\\lib\\site-packages (from optuna) (1.13.3)\n",
            "Requirement already satisfied: colorlog in c:\\users\\91883\\appdata\\local\\programs\\python\\python311\\lib\\site-packages (from optuna) (6.9.0)\n",
            "Requirement already satisfied: numpy in c:\\users\\91883\\appdata\\local\\programs\\python\\python311\\lib\\site-packages (from optuna) (1.26.4)\n",
            "Requirement already satisfied: packaging>=20.0 in c:\\users\\91883\\appdata\\local\\programs\\python\\python311\\lib\\site-packages (from optuna) (23.1)\n",
            "Requirement already satisfied: sqlalchemy>=1.4.2 in c:\\users\\91883\\appdata\\local\\programs\\python\\python311\\lib\\site-packages (from optuna) (1.4.54)\n",
            "Requirement already satisfied: tqdm in c:\\users\\91883\\appdata\\local\\programs\\python\\python311\\lib\\site-packages (from optuna) (4.66.2)\n",
            "Requirement already satisfied: PyYAML in c:\\users\\91883\\appdata\\local\\programs\\python\\python311\\lib\\site-packages (from optuna) (6.0)\n",
            "Requirement already satisfied: Mako in c:\\users\\91883\\appdata\\local\\programs\\python\\python311\\lib\\site-packages (from alembic>=1.5.0->optuna) (1.3.6)\n",
            "Requirement already satisfied: typing-extensions>=4 in c:\\users\\91883\\appdata\\local\\programs\\python\\python311\\lib\\site-packages (from alembic>=1.5.0->optuna) (4.11.0)\n",
            "Requirement already satisfied: greenlet!=0.4.17 in c:\\users\\91883\\appdata\\local\\programs\\python\\python311\\lib\\site-packages (from sqlalchemy>=1.4.2->optuna) (3.1.1)\n",
            "Requirement already satisfied: colorama in c:\\users\\91883\\appdata\\local\\programs\\python\\python311\\lib\\site-packages (from colorlog->optuna) (0.4.6)\n",
            "Requirement already satisfied: MarkupSafe>=0.9.2 in c:\\users\\91883\\appdata\\local\\programs\\python\\python311\\lib\\site-packages (from Mako->alembic>=1.5.0->optuna) (2.1.2)\n"
          ]
        }
      ],
      "source": [
        "# !pip install --upgrade grpcio\n",
        "# !pip show grpcio\n",
        "!pip install optuna\n",
        "import optuna\n",
        "import torch\n",
        "import torch.nn as nn\n",
        "import torch.nn.functional as F\n",
        "import torch.optim as optim\n",
        "import torchvision.transforms as transforms\n",
        "import torchvision.datasets as datasets\n",
        "from torch.utils.data import DataLoader, random_split\n",
        "import numpy as np\n",
        "import matplotlib.pyplot as plt\n",
        "from sklearn.model_selection import GridSearchCV, KFold\n",
        "from sklearn.metrics import make_scorer\n",
        "from skimage.metrics import peak_signal_noise_ratio as psnr\n",
        "from sklearn.base import BaseEstimator\n",
        "from torch.nn import ReLU, LeakyReLU, Tanh"
      ]
    },
    {
      "cell_type": "code",
      "source": [
        "transform = transforms.Compose([\n",
        "    transforms.ToTensor(),\n",
        "    transforms.Normalize((0.5,), (0.5,))\n",
        "])\n",
        "\n",
        "device = torch.device(\"cuda\" if torch.cuda.is_available() else \"cpu\")"
      ],
      "metadata": {
        "id": "us5dzCMFQtmV"
      },
      "execution_count": null,
      "outputs": []
    },
    {
      "cell_type": "code",
      "source": [
        "print(device)"
      ],
      "metadata": {
        "colab": {
          "base_uri": "https://localhost:8080/"
        },
        "id": "2zNsCpIshzaZ",
        "outputId": "2c19b2af-f7bd-4fa4-db81-947014655c17"
      },
      "execution_count": null,
      "outputs": [
        {
          "output_type": "stream",
          "name": "stdout",
          "text": [
            "cuda\n"
          ]
        }
      ]
    },
    {
      "cell_type": "code",
      "source": [
        "full_train_dataset = datasets.SVHN(root='./data', split='train', transform=transform, download=True)\n",
        "train_size = int(0.8 * len(full_train_dataset))\n",
        "val_size = len(full_train_dataset) - train_size\n",
        "train_dataset, val_dataset = random_split(full_train_dataset, [train_size, val_size])\n",
        "\n",
        "test_dataset = datasets.SVHN(root='./data', split='test', transform=transform, download=True)\n",
        "\n",
        "train_loader = DataLoader(train_dataset, batch_size=64, shuffle=True)\n",
        "val_loader = DataLoader(val_dataset, batch_size=64, shuffle=False)\n",
        "test_loader = DataLoader(test_dataset, batch_size=64, shuffle=False)"
      ],
      "metadata": {
        "colab": {
          "base_uri": "https://localhost:8080/"
        },
        "id": "6z1v1NI_Rs6V",
        "outputId": "d13286bb-5618-4979-9de0-053b82e63dd8"
      },
      "execution_count": null,
      "outputs": [
        {
          "output_type": "stream",
          "name": "stdout",
          "text": [
            "Using downloaded and verified file: ./data\\train_32x32.mat\n",
            "Using downloaded and verified file: ./data\\test_32x32.mat\n"
          ]
        }
      ]
    },
    {
      "cell_type": "code",
      "source": [
        "class CNN_Autoencoder(nn.Module):\n",
        "    def __init__(self, activation_fn=nn.ReLU(), optimizer_fn=optim.Adam, sparse=False):\n",
        "        super(CNN_Autoencoder, self).__init__()\n",
        "        self.sparse = sparse\n",
        "\n",
        "        # Encoder\n",
        "        self.encoder = nn.Sequential(\n",
        "            nn.Conv2d(3, 32, kernel_size=3, stride=1, padding=1),\n",
        "            activation_fn,\n",
        "            nn.Conv2d(32, 64, kernel_size=3, stride=2, padding=1),\n",
        "            activation_fn,\n",
        "            nn.Conv2d(64, 128, kernel_size=3, stride=2, padding=1),\n",
        "            activation_fn\n",
        "        )\n",
        "\n",
        "        # Decoder\n",
        "        self.decoder = nn.Sequential(\n",
        "            nn.ConvTranspose2d(128, 64, kernel_size=3, stride=2, padding=1, output_padding=1),\n",
        "            activation_fn,\n",
        "            nn.ConvTranspose2d(64, 32, kernel_size=3, stride=2, padding=1, output_padding=1),\n",
        "            activation_fn,\n",
        "            nn.ConvTranspose2d(32, 3, kernel_size=3, stride=1, padding=1),\n",
        "            nn.Tanh()  # Use Tanh for output layer\n",
        "        )\n",
        "\n",
        "        # Optimizer setup as a parameter\n",
        "        self.optimizer_fn = optimizer_fn\n",
        "\n",
        "    def forward(self, x):\n",
        "        encoded = self.encoder(x)\n",
        "        if self.sparse:\n",
        "            encoded = torch.abs(encoded)  # Enforce sparsity via L1\n",
        "        decoded = self.decoder(encoded)\n",
        "        return decoded\n",
        "\n",
        "    def get_optimizer(self, lr=0.001):\n",
        "        return self.optimizer_fn(self.parameters(), lr=lr)"
      ],
      "metadata": {
        "id": "ga8EtrxoR5au"
      },
      "execution_count": null,
      "outputs": []
    },
    {
      "cell_type": "code",
      "source": [
        "def train_autoencoder(model, optimizer, epochs=100, patience=10, loss_threshold=1e-4):\n",
        "    criterion = nn.MSELoss()\n",
        "    model.train()\n",
        "    best_val_loss = float('inf')\n",
        "    patience_counter = 0\n",
        "    train_losses = []\n",
        "    val_losses = []\n",
        "\n",
        "    for epoch in range(epochs):\n",
        "        total_loss = 0\n",
        "        val_loss = 0\n",
        "\n",
        "        # Training loop\n",
        "        for images, _ in train_loader:\n",
        "            images = images.to(device)\n",
        "            optimizer.zero_grad()\n",
        "            outputs = model(images)\n",
        "            loss = criterion(outputs, images)\n",
        "            loss.backward()\n",
        "\n",
        "            # Apply weight clipping\n",
        "            for param in model.parameters():\n",
        "                param.data = torch.clamp(param.data, -0.5, 0.5)\n",
        "\n",
        "            optimizer.step()\n",
        "            total_loss += loss.item()\n",
        "\n",
        "        # Validation loop\n",
        "        model.eval()\n",
        "        with torch.no_grad():\n",
        "            for images, _ in val_loader:\n",
        "                images = images.to(device)\n",
        "                outputs = model(images)\n",
        "                val_loss += criterion(outputs, images).item()\n",
        "        val_loss /= len(val_loader)\n",
        "        model.train()\n",
        "\n",
        "        train_losses.append(total_loss / len(train_loader))\n",
        "        val_losses.append(val_loss)\n",
        "\n",
        "        print(f\"Epoch [{epoch+1}/{epochs}], Train Loss: {train_losses[-1]:.4f}, Val Loss: {val_losses[-1]:.4f}\")\n",
        "\n",
        "        # Enhanced Early Stopping condition\n",
        "        if val_loss < best_val_loss - loss_threshold:\n",
        "            best_val_loss = val_loss\n",
        "            patience_counter = 0\n",
        "        else:\n",
        "            patience_counter += 1\n",
        "            if patience_counter >= patience:\n",
        "                print(\"Early stopping triggered.\")\n",
        "                break\n",
        "\n",
        "    return train_losses, val_losses"
      ],
      "metadata": {
        "id": "y0Rm_Iy7R76v"
      },
      "execution_count": null,
      "outputs": []
    },
    {
      "cell_type": "code",
      "source": [
        "model_base = CNN_Autoencoder().to(device)\n",
        "model_sparse = CNN_Autoencoder(sparse=True).to(device)\n",
        "\n",
        "optimizer_base = optim.Adam(model_base.parameters(), lr=0.001)\n",
        "optimizer_sparse = optim.Adam(model_sparse.parameters(), lr=0.001)"
      ],
      "metadata": {
        "id": "mNS7DV1ZTL-y"
      },
      "execution_count": null,
      "outputs": []
    },
    {
      "cell_type": "code",
      "source": [
        "print(\"Training the base Autoencoder\\n\")\n",
        "train_losses_base, val_losses_base = train_autoencoder(model_base, optimizer_base, epochs=100, patience=5)\n",
        "\n",
        "print(\"\\n========================================\\nTraining the Autoencoder with L1-based sparsity constraint\\n\")\n",
        "train_losses_sparse, val_losses_sparse = train_autoencoder(model_sparse, optimizer_sparse, epochs=100, patience=5)"
      ],
      "metadata": {
        "colab": {
          "base_uri": "https://localhost:8080/"
        },
        "id": "EBgRRNtITSDH",
        "outputId": "c09c8aa2-0f00-4cca-81be-6d70c78916f1"
      },
      "execution_count": null,
      "outputs": [
        {
          "output_type": "stream",
          "name": "stdout",
          "text": [
            "Training the base Autoencoder\n",
            "\n",
            "Epoch [1/100], Train Loss: 0.0047, Val Loss: 0.0008\n",
            "Epoch [2/100], Train Loss: 0.0006, Val Loss: 0.0004\n",
            "Epoch [3/100], Train Loss: 0.0004, Val Loss: 0.0003\n",
            "Epoch [4/100], Train Loss: 0.0003, Val Loss: 0.0002\n",
            "Epoch [5/100], Train Loss: 0.0003, Val Loss: 0.0003\n",
            "Epoch [6/100], Train Loss: 0.0002, Val Loss: 0.0002\n",
            "Epoch [7/100], Train Loss: 0.0002, Val Loss: 0.0002\n",
            "Epoch [8/100], Train Loss: 0.0002, Val Loss: 0.0002\n",
            "Epoch [9/100], Train Loss: 0.0002, Val Loss: 0.0001\n",
            "Epoch [10/100], Train Loss: 0.0002, Val Loss: 0.0001\n",
            "Epoch [11/100], Train Loss: 0.0002, Val Loss: 0.0001\n",
            "Early stopping triggered.\n",
            "\n",
            "========================================\n",
            "Training the Autoencoder with L1-based sparsity constraint\n",
            "\n",
            "Epoch [1/100], Train Loss: 0.0056, Val Loss: 0.0007\n",
            "Epoch [2/100], Train Loss: 0.0006, Val Loss: 0.0004\n",
            "Epoch [3/100], Train Loss: 0.0004, Val Loss: 0.0003\n",
            "Epoch [4/100], Train Loss: 0.0004, Val Loss: 0.0005\n",
            "Epoch [5/100], Train Loss: 0.0003, Val Loss: 0.0004\n",
            "Epoch [6/100], Train Loss: 0.0002, Val Loss: 0.0002\n",
            "Epoch [7/100], Train Loss: 0.0002, Val Loss: 0.0002\n",
            "Epoch [8/100], Train Loss: 0.0002, Val Loss: 0.0002\n",
            "Epoch [9/100], Train Loss: 0.0002, Val Loss: 0.0001\n",
            "Epoch [10/100], Train Loss: 0.0002, Val Loss: 0.0001\n",
            "Epoch [11/100], Train Loss: 0.0002, Val Loss: 0.0001\n",
            "Early stopping triggered.\n"
          ]
        }
      ]
    },
    {
      "cell_type": "code",
      "source": [
        "plt.figure(figsize=(10,5))\n",
        "plt.plot(train_losses_base, label='Train Loss (Base)', c='r')\n",
        "plt.plot(val_losses_base, label='Val Loss (Base)', c='pink')\n",
        "plt.plot(train_losses_sparse, label='Train Loss (Sparse)', c='navy')\n",
        "plt.plot(val_losses_sparse, label='Val Loss (Sparse)', c='lightblue')\n",
        "plt.yscale('log')\n",
        "plt.xlabel('Epochs')\n",
        "plt.ylabel('Loss')\n",
        "plt.legend()\n",
        "plt.title('Training and Validation Loss')\n",
        "plt.show()"
      ],
      "metadata": {
        "colab": {
          "base_uri": "https://localhost:8080/",
          "height": 487
        },
        "id": "jZfHFYdkT_9m",
        "outputId": "0a8d051e-62f7-43f1-c9c0-90818a5c91b1"
      },
      "execution_count": null,
      "outputs": [
        {
          "output_type": "display_data",
          "data": {
            "text/plain": [
              "<Figure size 1000x500 with 1 Axes>"
            ],
            "image/png": "[encoded data removed]"
          },
          "metadata": {}
        }
      ]
    },
    {
      "cell_type": "code",
      "source": [
        "def evaluate_psnr(model, dataloader):\n",
        "    total_psnr = 0\n",
        "    with torch.no_grad():\n",
        "        for images, _ in dataloader:\n",
        "            images = images.to(device)\n",
        "            outputs = model(images)\n",
        "            images_np = images.cpu()\n",
        "            outputs_np = outputs.cpu()\n",
        "            batch_psnr = np.mean([psnr(images_np[i], outputs_np[i]) for i in range(len(images_np))])\n",
        "            total_psnr += batch_psnr\n",
        "    return total_psnr / len(dataloader)"
      ],
      "metadata": {
        "id": "CTEEX8cOTVuZ"
      },
      "execution_count": null,
      "outputs": []
    },
    {
      "cell_type": "code",
      "source": [
        "psnr_base = evaluate_psnr(model_base, test_loader)\n",
        "psnr_sparse = evaluate_psnr(model_sparse, test_loader)\n",
        "\n",
        "print(f\"PSNR (Base Autoencoder): {psnr_base:.2f} dB\")\n",
        "print(f\"PSNR (Sparse Autoencoder): {psnr_sparse:.2f} dB\")"
      ],
      "metadata": {
        "colab": {
          "base_uri": "https://localhost:8080/"
        },
        "id": "Uh6S9VfyTYfR",
        "outputId": "00e50731-aa5f-4279-e1cd-bc442d21333e"
      },
      "execution_count": null,
      "outputs": [
        {
          "output_type": "stream",
          "name": "stdout",
          "text": [
            "PSNR (Base Autoencoder): 40.34 dB\n",
            "PSNR (Sparse Autoencoder): 41.26 dB\n"
          ]
        }
      ]
    },
    {
      "cell_type": "code",
      "source": [
        "def display_reconstructed_images(model, dataloader, num_images=5):\n",
        "    model.eval()\n",
        "    images, _ = next(iter(dataloader))\n",
        "    images = images.to(device)\n",
        "    with torch.no_grad():\n",
        "        outputs = model(images)\n",
        "\n",
        "    images = images.cpu().numpy().transpose(0, 2, 3, 1)\n",
        "    outputs = outputs.cpu().numpy().transpose(0, 2, 3, 1)\n",
        "\n",
        "    fig, axes = plt.subplots(2, num_images, figsize=(12, 4))\n",
        "    for i in range(num_images):\n",
        "        axes[0, i].imshow((images[i] * 0.5 + 0.5))\n",
        "        axes[0, i].axis('off')\n",
        "        axes[1, i].imshow((outputs[i] * 0.5 + 0.5))\n",
        "        axes[1, i].axis('off')\n",
        "    plt.show()\n",
        "\n",
        "print(\"Autoencoder without sparsity constraint\")\n",
        "display_reconstructed_images(model_base, test_loader)\n",
        "print(\"Autoencoder with sparsity constraint\")\n",
        "display_reconstructed_images(model_sparse, test_loader)"
      ],
      "metadata": {
        "colab": {
          "base_uri": "https://localhost:8080/",
          "height": 708
        },
        "id": "KGjHe8VZzKxo",
        "outputId": "aaf463df-d1ad-4d1d-9234-81453dabcb67"
      },
      "execution_count": null,
      "outputs": [
        {
          "output_type": "stream",
          "name": "stdout",
          "text": [
            "Autoencoder without sparsity constraint\n"
          ]
        },
        {
          "output_type": "display_data",
          "data": {
            "text/plain": [
              "<Figure size 1200x400 with 10 Axes>"
            ],
            "image/png": "[encoded data removed]"
          },
          "metadata": {}
        },
        {
          "output_type": "stream",
          "name": "stdout",
          "text": [
            "Autoencoder with sparsity constraint\n"
          ]
        },
        {
          "output_type": "display_data",
          "data": {
            "text/plain": [
              "<Figure size 1200x400 with 10 Axes>"
            ],
            "image/png": "[encoded data removed]"
          },
          "metadata": {}
        }
      ]
    },
    {
      "cell_type": "code",
      "source": [
        "def psnr(target, prediction, max_value=1.0):\n",
        "    mse = torch.mean((target - prediction) ** 2)\n",
        "    return 20 * torch.log10(max_value / torch.sqrt(mse))\n",
        "\n",
        "def psnr_scorer(y_true, y_pred):\n",
        "    y_true_tensor = torch.tensor(y_true).float()\n",
        "    y_pred_tensor = torch.tensor(y_pred).float()\n",
        "    return psnr(y_true_tensor, y_pred_tensor).item()"
      ],
      "metadata": {
        "id": "baRREzpBEiSm"
      },
      "execution_count": null,
      "outputs": []
    },
    {
      "cell_type": "code",
      "source": [
        "class CNN_Autoencoder_SklearnWrapper(BaseEstimator):\n",
        "    def __init__(self, activation_fn=ReLU(), optimizer_fn=optim.Adam, sparse=False, lr=0.001):\n",
        "        self.activation_fn = activation_fn\n",
        "        self.optimizer_fn = optimizer_fn\n",
        "        self.sparse = sparse\n",
        "        self.lr = lr\n",
        "        self.model = CNN_Autoencoder(activation_fn=activation_fn, optimizer_fn=optimizer_fn, sparse=sparse)\n",
        "\n",
        "    def fit(self, X, y=None):\n",
        "        self.model.train()\n",
        "        optimizer = self.model.get_optimizer(lr=self.lr)\n",
        "        criterion = nn.MSELoss()\n",
        "\n",
        "        for epoch in range(10):  # Number of epochs for grid search\n",
        "            for i, (inputs, _) in enumerate(X):  # Ignore labels\n",
        "                optimizer.zero_grad()\n",
        "                outputs = self.model(inputs)\n",
        "\n",
        "                # Debugging: Print shapes\n",
        "                # print(f\"Input shape: {inputs.shape}, Output shape: {outputs.shape}\")\n",
        "\n",
        "                loss = criterion(outputs, inputs.float())  # Targets should be inputs\n",
        "                loss.backward()\n",
        "                optimizer.step()\n",
        "\n",
        "        return self\n",
        "\n",
        "\n",
        "    def predict(self, X):\n",
        "        self.model.eval()\n",
        "        outputs_list = []\n",
        "        with torch.no_grad():\n",
        "            for inputs, _ in X:  # Ignore labels\n",
        "                outputs = self.model(inputs)\n",
        "                outputs_list.append(outputs.cpu().numpy())  # Convert to NumPy\n",
        "        return np.concatenate(outputs_list, axis=0)  # Stack along batch dimension\n",
        "\n",
        "\n",
        "# class CNN_Autoencoder_SklearnWrapper(BaseEstimator):\n",
        "#     def __init__(self, activation_fn=None, optimizer_fn=optim.Adam, sparse=False, lr=0.001):\n",
        "#         self.activation_fn = activation_fn\n",
        "#         self.optimizer_fn = optimizer_fn\n",
        "#         self.sparse = sparse\n",
        "#         self.lr = lr\n",
        "#         self._initialize_model()  # Initialize model inside constructor\n",
        "\n",
        "#     def _initialize_model(self):\n",
        "#         \"\"\" Initializes the PyTorch model and optimizer \"\"\"\n",
        "#         self.model = CNN_Autoencoder(activation_fn=self.activation_fn, sparse=self.sparse)\n",
        "#         self.optimizer = self.optimizer_fn(self.model.parameters(), lr=self.lr)\n",
        "\n",
        "#     def fit(self, X, y=None):\n",
        "#         \"\"\" Trains the autoencoder with NumPy input \"\"\"\n",
        "#         X_tensor = torch.tensor(X, dtype=torch.float32)\n",
        "#         train_loader = DataLoader(X_tensor, batch_size=64, shuffle=True)\n",
        "#         X_reshaped = X.reshape(X.shape[0], 3, 32, 32)\n",
        "#         self.model.train()\n",
        "#         for epoch in range(5):  # Example: 5 epochs\n",
        "#             for batch in train_loader:\n",
        "#                 self.optimizer.zero_grad()\n",
        "#                 outputs = self.model(batch)\n",
        "#                 loss = F.mse_loss(outputs, batch)\n",
        "#                 loss.backward()\n",
        "#                 self.optimizer.step()\n",
        "#         return self\n",
        "\n",
        "#     def predict(self, X):\n",
        "#         \"\"\" Reconstruct input using the trained autoencoder \"\"\"\n",
        "#         self.model.eval()\n",
        "#         X_tensor = torch.tensor(X, dtype=torch.float32)\n",
        "#         X_reshaped = X.reshape(X.shape[0], 3, 32, 32)\n",
        "#         with torch.no_grad():\n",
        "#             return self.model(X_tensor).numpy()  # Convert output back to NumPy\n",
        "\n",
        "#     def score(self, X, y=None):\n",
        "#         \"\"\" Compute PSNR Score \"\"\"\n",
        "#         X_reconstructed = self.predict(X)\n",
        "#         return psnr(X, X_reconstructed)  # Use your PSNR function"
      ],
      "metadata": {
        "id": "LXwmCG3hGRBj"
      },
      "execution_count": null,
      "outputs": []
    },
    {
      "cell_type": "code",
      "source": [
        "def objective(trial):\n",
        "    # Hyperparameters to tune\n",
        "    activation_fn = trial.suggest_categorical('activation_fn', [ReLU, LeakyReLU, Tanh])  # Pass classes, not instances\n",
        "    activation_fn = activation_fn()\n",
        "    lr = trial.suggest_float('lr', 0.0001, 0.01)\n",
        "    optimizer_fn = trial.suggest_categorical('optimizer_fn', [optim.Adam, optim.SGD, optim.RMSprop])\n",
        "\n",
        "    print(f\"Trial {trial.number} - Learning Rate: {lr}, activation: {activation_fn}\")\n",
        "\n",
        "    full_train_dataset = datasets.SVHN(root='./data', split='train', transform=transform, download=True)\n",
        "\n",
        "    train_data = full_train_dataset.data\n",
        "    train_labels = full_train_dataset.labels\n",
        "\n",
        "    # Check for GPU availability\n",
        "    device = torch.device('cuda' if torch.cuda.is_available() else 'cpu')\n",
        "\n",
        "    # Initialize model (make sure this is a subclass of nn.Module)\n",
        "    model = CNN_Autoencoder_SklearnWrapper(\n",
        "        activation_fn=activation_fn,\n",
        "        optimizer_fn=optimizer_fn,\n",
        "        sparse=False,\n",
        "        lr=lr\n",
        "    )\n",
        "\n",
        "    # Ensure the model's actual PyTorch model is moved to the correct device\n",
        "    model.model = model.model.to(device)  # Move model to GPU\n",
        "\n",
        "    # Split the dataset using KFold (reuse your previous code here)\n",
        "    kf = KFold(n_splits=3, shuffle=True)\n",
        "    fold_scores = []\n",
        "\n",
        "    for train_idx, val_idx in kf.split(train_data):\n",
        "        train_fold_data = torch.tensor(train_data[train_idx], dtype=torch.float32).permute(0, 1, 3, 2).to(device)\n",
        "        train_fold_labels = torch.tensor(train_labels[train_idx], dtype=torch.long).to(device)\n",
        "        val_fold_data = torch.tensor(train_data[val_idx], dtype=torch.float32).permute(0, 1, 3, 2).to(device)\n",
        "        val_fold_labels = torch.tensor(train_labels[val_idx], dtype=torch.long).to(device)\n",
        "\n",
        "        train_loader = DataLoader(\n",
        "            list(zip(train_fold_data, train_fold_labels)),\n",
        "            batch_size=64, shuffle=True\n",
        "        )\n",
        "        val_loader = DataLoader(\n",
        "            list(zip(val_fold_data, val_fold_labels)),\n",
        "            batch_size=64, shuffle=True\n",
        "        )\n",
        "\n",
        "        # Fit model (ensure the data is on the correct device)\n",
        "        model.fit(train_loader, None)\n",
        "\n",
        "        # Evaluate the model on the validation fold\n",
        "        model.model.eval()\n",
        "        val_psnr = 0.0\n",
        "        with torch.no_grad():\n",
        "            for inputs, _ in val_loader:  # Ignore the labels\n",
        "                inputs = inputs.to(device)\n",
        "                outputs = model.model(inputs)\n",
        "                # print(f\"Outputs shape: {outputs.shape}, Inputs shape: {inputs.shape}\")  # Check if they match\n",
        "                val_psnr += psnr(inputs, outputs)  # Compare the input and output images\n",
        "        fold_scores.append(val_psnr / len(val_loader))\n",
        "\n",
        "    mean_score = np.mean([score.cpu().numpy() for score in fold_scores])\n",
        "\n",
        "    # Return the mean PSNR as the objective value\n",
        "    return mean_score"
      ],
      "metadata": {
        "id": "8mE7V8Um0hVg"
      },
      "execution_count": null,
      "outputs": []
    },
    {
      "cell_type": "code",
      "source": [
        "# Create study and optimize\n",
        "study = optuna.create_study(direction='maximize')\n",
        "study.optimize(objective, n_trials=10)  # You can set n_trials to any number you prefer\n",
        "\n",
        "print(f\"Best hyperparameters: {study.best_params}\")"
      ],
      "metadata": {
        "colab": {
          "base_uri": "https://localhost:8080/"
        },
        "id": "xWtzELwg7Er4",
        "outputId": "59f685e7-d1be-467f-da16-295ab9c56e75"
      },
      "execution_count": null,
      "outputs": [
        {
          "output_type": "stream",
          "name": "stderr",
          "text": [
            "[I 2025-02-02 14:35:39,075] A new study created in memory with name: no-name-3906ce79-ff52-4dcb-b3b8-b2781a13036e\n"
          ]
        },
        {
          "output_type": "stream",
          "name": "stdout",
          "text": [
            "Trial 0 - Learning Rate: 0.005096351928864123, activation: Tanh()\n",
            "Using downloaded and verified file: ./data\\train_32x32.mat\n"
          ]
        },
        {
          "output_type": "stream",
          "name": "stderr",
          "text": [
            "[I 2025-02-02 14:38:42,616] Trial 0 finished with value: -41.91798782348633 and parameters: {'activation_fn': <class 'torch.nn.modules.activation.Tanh'>, 'lr': 0.005096351928864123, 'optimizer_fn': <class 'torch.optim.sgd.SGD'>}. Best is trial 0 with value: -41.91798782348633.\n"
          ]
        },
        {
          "output_type": "stream",
          "name": "stdout",
          "text": [
            "Trial 1 - Learning Rate: 0.008310381603633964, activation: Tanh()\n",
            "Using downloaded and verified file: ./data\\train_32x32.mat\n"
          ]
        },
        {
          "output_type": "stream",
          "name": "stderr",
          "text": [
            "[I 2025-02-02 14:41:45,536] Trial 1 finished with value: -41.91868591308594 and parameters: {'activation_fn': <class 'torch.nn.modules.activation.Tanh'>, 'lr': 0.008310381603633964, 'optimizer_fn': <class 'torch.optim.rmsprop.RMSprop'>}. Best is trial 0 with value: -41.91798782348633.\n"
          ]
        },
        {
          "output_type": "stream",
          "name": "stdout",
          "text": [
            "Trial 2 - Learning Rate: 0.005294449565525911, activation: ReLU()\n",
            "Using downloaded and verified file: ./data\\train_32x32.mat\n"
          ]
        },
        {
          "output_type": "stream",
          "name": "stderr",
          "text": [
            "[I 2025-02-02 14:44:49,273] Trial 2 finished with value: -41.91892623901367 and parameters: {'activation_fn': <class 'torch.nn.modules.activation.ReLU'>, 'lr': 0.005294449565525911, 'optimizer_fn': <class 'torch.optim.rmsprop.RMSprop'>}. Best is trial 0 with value: -41.91798782348633.\n"
          ]
        },
        {
          "output_type": "stream",
          "name": "stdout",
          "text": [
            "Trial 3 - Learning Rate: 0.005749473081422798, activation: LeakyReLU(negative_slope=0.01)\n",
            "Using downloaded and verified file: ./data\\train_32x32.mat\n"
          ]
        },
        {
          "output_type": "stream",
          "name": "stderr",
          "text": [
            "[I 2025-02-02 14:47:50,431] Trial 3 finished with value: -41.918399810791016 and parameters: {'activation_fn': <class 'torch.nn.modules.activation.LeakyReLU'>, 'lr': 0.005749473081422798, 'optimizer_fn': <class 'torch.optim.adam.Adam'>}. Best is trial 0 with value: -41.91798782348633.\n"
          ]
        },
        {
          "output_type": "stream",
          "name": "stdout",
          "text": [
            "Trial 4 - Learning Rate: 0.00670549299984881, activation: LeakyReLU(negative_slope=0.01)\n",
            "Using downloaded and verified file: ./data\\train_32x32.mat\n"
          ]
        },
        {
          "output_type": "stream",
          "name": "stderr",
          "text": [
            "[I 2025-02-02 14:50:56,184] Trial 4 finished with value: -41.91897201538086 and parameters: {'activation_fn': <class 'torch.nn.modules.activation.LeakyReLU'>, 'lr': 0.00670549299984881, 'optimizer_fn': <class 'torch.optim.adam.Adam'>}. Best is trial 0 with value: -41.91798782348633.\n"
          ]
        },
        {
          "output_type": "stream",
          "name": "stdout",
          "text": [
            "Trial 5 - Learning Rate: 0.0011641856974975503, activation: LeakyReLU(negative_slope=0.01)\n",
            "Using downloaded and verified file: ./data\\train_32x32.mat\n"
          ]
        },
        {
          "output_type": "stream",
          "name": "stderr",
          "text": [
            "[I 2025-02-02 14:53:58,339] Trial 5 finished with value: -41.918697357177734 and parameters: {'activation_fn': <class 'torch.nn.modules.activation.LeakyReLU'>, 'lr': 0.0011641856974975503, 'optimizer_fn': <class 'torch.optim.adam.Adam'>}. Best is trial 0 with value: -41.91798782348633.\n"
          ]
        },
        {
          "output_type": "stream",
          "name": "stdout",
          "text": [
            "Trial 6 - Learning Rate: 0.0018799041447780896, activation: Tanh()\n",
            "Using downloaded and verified file: ./data\\train_32x32.mat\n"
          ]
        },
        {
          "output_type": "stream",
          "name": "stderr",
          "text": [
            "[I 2025-02-02 14:57:00,856] Trial 6 finished with value: -41.91877365112305 and parameters: {'activation_fn': <class 'torch.nn.modules.activation.Tanh'>, 'lr': 0.0018799041447780896, 'optimizer_fn': <class 'torch.optim.adam.Adam'>}. Best is trial 0 with value: -41.91798782348633.\n"
          ]
        },
        {
          "output_type": "stream",
          "name": "stdout",
          "text": [
            "Trial 7 - Learning Rate: 0.008181228708877702, activation: LeakyReLU(negative_slope=0.01)\n",
            "Using downloaded and verified file: ./data\\train_32x32.mat\n"
          ]
        },
        {
          "output_type": "stream",
          "name": "stderr",
          "text": [
            "[I 2025-02-02 15:00:03,310] Trial 7 finished with value: -41.91835403442383 and parameters: {'activation_fn': <class 'torch.nn.modules.activation.LeakyReLU'>, 'lr': 0.008181228708877702, 'optimizer_fn': <class 'torch.optim.rmsprop.RMSprop'>}. Best is trial 0 with value: -41.91798782348633.\n"
          ]
        },
        {
          "output_type": "stream",
          "name": "stdout",
          "text": [
            "Trial 8 - Learning Rate: 0.006404403564802816, activation: LeakyReLU(negative_slope=0.01)\n",
            "Using downloaded and verified file: ./data\\train_32x32.mat\n"
          ]
        },
        {
          "output_type": "stream",
          "name": "stderr",
          "text": [
            "[I 2025-02-02 15:03:07,559] Trial 8 finished with value: -41.917789459228516 and parameters: {'activation_fn': <class 'torch.nn.modules.activation.LeakyReLU'>, 'lr': 0.006404403564802816, 'optimizer_fn': <class 'torch.optim.adam.Adam'>}. Best is trial 8 with value: -41.917789459228516.\n"
          ]
        },
        {
          "output_type": "stream",
          "name": "stdout",
          "text": [
            "Trial 9 - Learning Rate: 0.004088249587084291, activation: LeakyReLU(negative_slope=0.01)\n",
            "Using downloaded and verified file: ./data\\train_32x32.mat\n"
          ]
        },
        {
          "output_type": "stream",
          "name": "stderr",
          "text": [
            "[I 2025-02-02 15:06:06,974] Trial 9 finished with value: -41.91831970214844 and parameters: {'activation_fn': <class 'torch.nn.modules.activation.LeakyReLU'>, 'lr': 0.004088249587084291, 'optimizer_fn': <class 'torch.optim.sgd.SGD'>}. Best is trial 8 with value: -41.917789459228516.\n"
          ]
        },
        {
          "output_type": "stream",
          "name": "stdout",
          "text": [
            "Best hyperparameters: {'activation_fn': <class 'torch.nn.modules.activation.LeakyReLU'>, 'lr': 0.006404403564802816, 'optimizer_fn': <class 'torch.optim.adam.Adam'>}\n"
          ]
        }
      ]
    },
    {
      "cell_type": "code",
      "source": [
        "def objective_sparse(trial):\n",
        "    # Hyperparameters to tune\n",
        "    activation_fn = trial.suggest_categorical('activation_fn', [ReLU, LeakyReLU, Tanh])  # Pass classes, not instances\n",
        "    activation_fn = activation_fn()\n",
        "    lr = trial.suggest_float('lr', 0.0001, 0.01)\n",
        "    optimizer_fn = trial.suggest_categorical('optimizer_fn', [optim.Adam, optim.SGD, optim.RMSprop])\n",
        "\n",
        "    print(f\"Trial {trial.number} - Learning Rate: {lr}, activation: {activation_fn}\")\n",
        "\n",
        "    full_train_dataset = datasets.SVHN(root='./data', split='train', transform=transform, download=True)\n",
        "\n",
        "    train_data = full_train_dataset.data\n",
        "    train_labels = full_train_dataset.labels\n",
        "\n",
        "    # Check for GPU availability\n",
        "    device = torch.device('cuda' if torch.cuda.is_available() else 'cpu')\n",
        "\n",
        "    # Initialize model (make sure this is a subclass of nn.Module)\n",
        "    model = CNN_Autoencoder_SklearnWrapper(\n",
        "        activation_fn=activation_fn,\n",
        "        optimizer_fn=optimizer_fn,\n",
        "        sparse=True,\n",
        "        lr=lr\n",
        "    )\n",
        "\n",
        "    # Ensure the model's actual PyTorch model is moved to the correct device\n",
        "    model.model = model.model.to(device)  # Move model to GPU\n",
        "\n",
        "    # Split the dataset using KFold (reuse your previous code here)\n",
        "    kf = KFold(n_splits=3, shuffle=True)\n",
        "    fold_scores = []\n",
        "\n",
        "    for train_idx, val_idx in kf.split(train_data):\n",
        "        train_fold_data = torch.tensor(train_data[train_idx], dtype=torch.float32).permute(0, 1, 3, 2).to(device)\n",
        "        train_fold_labels = torch.tensor(train_labels[train_idx], dtype=torch.long).to(device)\n",
        "        val_fold_data = torch.tensor(train_data[val_idx], dtype=torch.float32).permute(0, 1, 3, 2).to(device)\n",
        "        val_fold_labels = torch.tensor(train_labels[val_idx], dtype=torch.long).to(device)\n",
        "\n",
        "        train_loader = DataLoader(\n",
        "            list(zip(train_fold_data, train_fold_labels)),\n",
        "            batch_size=64, shuffle=True\n",
        "        )\n",
        "        val_loader = DataLoader(\n",
        "            list(zip(val_fold_data, val_fold_labels)),\n",
        "            batch_size=64, shuffle=True\n",
        "        )\n",
        "\n",
        "        # Fit model (ensure the data is on the correct device)\n",
        "        model.fit(train_loader, None)\n",
        "\n",
        "        # Evaluate the model on the validation fold\n",
        "        model.model.eval()\n",
        "        val_psnr = 0.0\n",
        "        with torch.no_grad():\n",
        "            for inputs, _ in val_loader:  # Ignore the labels\n",
        "                inputs = inputs.to(device)\n",
        "                outputs = model.model(inputs)\n",
        "                # print(f\"Outputs shape: {outputs.shape}, Inputs shape: {inputs.shape}\")  # Check if they match\n",
        "                val_psnr += psnr(inputs, outputs)  # Compare the input and output images\n",
        "        fold_scores.append(val_psnr / len(val_loader))\n",
        "\n",
        "    mean_score = np.mean([score.cpu().numpy() for score in fold_scores])\n",
        "\n",
        "    # Return the mean PSNR as the objective value\n",
        "    return mean_score"
      ],
      "metadata": {
        "id": "eZqHFrwSBcfO"
      },
      "execution_count": null,
      "outputs": []
    },
    {
      "cell_type": "code",
      "source": [
        "study = optuna.create_study(direction='maximize')\n",
        "study.optimize(objective_sparse, n_trials=10)\n",
        "\n",
        "print(f\"Best hyperparameters: {study.best_params}\")"
      ],
      "metadata": {
        "colab": {
          "base_uri": "https://localhost:8080/"
        },
        "id": "mC5ysdxgByuH",
        "outputId": "298348eb-7045-4557-f1dd-5533e07d59bb"
      },
      "execution_count": null,
      "outputs": [
        {
          "output_type": "stream",
          "name": "stderr",
          "text": [
            "[I 2025-02-02 15:10:03,353] A new study created in memory with name: no-name-c744d9cc-320b-4736-babe-e9a0e7f7f3a6\n",
            "C:\\Users\\91883\\AppData\\Local\\Programs\\Python\\Python311\\Lib\\site-packages\\optuna\\distributions.py:515: UserWarning: Choices for a categorical distribution should be a tuple of None, bool, int, float and str for persistent storage but contains <class 'torch.nn.modules.activation.ReLU'> which is of type type.\n",
            "  warnings.warn(message)\n",
            "C:\\Users\\91883\\AppData\\Local\\Programs\\Python\\Python311\\Lib\\site-packages\\optuna\\distributions.py:515: UserWarning: Choices for a categorical distribution should be a tuple of None, bool, int, float and str for persistent storage but contains <class 'torch.nn.modules.activation.LeakyReLU'> which is of type type.\n",
            "  warnings.warn(message)\n",
            "C:\\Users\\91883\\AppData\\Local\\Programs\\Python\\Python311\\Lib\\site-packages\\optuna\\distributions.py:515: UserWarning: Choices for a categorical distribution should be a tuple of None, bool, int, float and str for persistent storage but contains <class 'torch.nn.modules.activation.Tanh'> which is of type type.\n",
            "  warnings.warn(message)\n",
            "C:\\Users\\91883\\AppData\\Local\\Programs\\Python\\Python311\\Lib\\site-packages\\optuna\\distributions.py:515: UserWarning: Choices for a categorical distribution should be a tuple of None, bool, int, float and str for persistent storage but contains <class 'torch.optim.adam.Adam'> which is of type type.\n",
            "  warnings.warn(message)\n",
            "C:\\Users\\91883\\AppData\\Local\\Programs\\Python\\Python311\\Lib\\site-packages\\optuna\\distributions.py:515: UserWarning: Choices for a categorical distribution should be a tuple of None, bool, int, float and str for persistent storage but contains <class 'torch.optim.sgd.SGD'> which is of type type.\n",
            "  warnings.warn(message)\n",
            "C:\\Users\\91883\\AppData\\Local\\Programs\\Python\\Python311\\Lib\\site-packages\\optuna\\distributions.py:515: UserWarning: Choices for a categorical distribution should be a tuple of None, bool, int, float and str for persistent storage but contains <class 'torch.optim.rmsprop.RMSprop'> which is of type type.\n",
            "  warnings.warn(message)\n"
          ]
        },
        {
          "output_type": "stream",
          "name": "stdout",
          "text": [
            "Trial 0 - Learning Rate: 0.0013719402363322783, activation: ReLU()\n",
            "Using downloaded and verified file: ./data\\train_32x32.mat\n"
          ]
        },
        {
          "output_type": "stream",
          "name": "stderr",
          "text": [
            "[I 2025-02-02 15:13:04,155] Trial 0 finished with value: -41.9201774597168 and parameters: {'activation_fn': <class 'torch.nn.modules.activation.ReLU'>, 'lr': 0.0013719402363322783, 'optimizer_fn': <class 'torch.optim.sgd.SGD'>}. Best is trial 0 with value: -41.9201774597168.\n"
          ]
        },
        {
          "output_type": "stream",
          "name": "stdout",
          "text": [
            "Trial 1 - Learning Rate: 0.004520338920653176, activation: LeakyReLU(negative_slope=0.01)\n",
            "Using downloaded and verified file: ./data\\train_32x32.mat\n"
          ]
        },
        {
          "output_type": "stream",
          "name": "stderr",
          "text": [
            "[I 2025-02-02 15:16:05,696] Trial 1 finished with value: -41.9193000793457 and parameters: {'activation_fn': <class 'torch.nn.modules.activation.LeakyReLU'>, 'lr': 0.004520338920653176, 'optimizer_fn': <class 'torch.optim.sgd.SGD'>}. Best is trial 1 with value: -41.9193000793457.\n"
          ]
        },
        {
          "output_type": "stream",
          "name": "stdout",
          "text": [
            "Trial 2 - Learning Rate: 0.006545334323745731, activation: ReLU()\n",
            "Using downloaded and verified file: ./data\\train_32x32.mat\n"
          ]
        },
        {
          "output_type": "stream",
          "name": "stderr",
          "text": [
            "[I 2025-02-02 15:19:39,101] Trial 2 finished with value: -41.91835403442383 and parameters: {'activation_fn': <class 'torch.nn.modules.activation.ReLU'>, 'lr': 0.006545334323745731, 'optimizer_fn': <class 'torch.optim.adam.Adam'>}. Best is trial 2 with value: -41.91835403442383.\n"
          ]
        },
        {
          "output_type": "stream",
          "name": "stdout",
          "text": [
            "Trial 3 - Learning Rate: 0.007688252937635336, activation: ReLU()\n",
            "Using downloaded and verified file: ./data\\train_32x32.mat\n"
          ]
        },
        {
          "output_type": "stream",
          "name": "stderr",
          "text": [
            "[I 2025-02-02 15:22:51,687] Trial 3 finished with value: -41.91978454589844 and parameters: {'activation_fn': <class 'torch.nn.modules.activation.ReLU'>, 'lr': 0.007688252937635336, 'optimizer_fn': <class 'torch.optim.sgd.SGD'>}. Best is trial 2 with value: -41.91835403442383.\n"
          ]
        },
        {
          "output_type": "stream",
          "name": "stdout",
          "text": [
            "Trial 4 - Learning Rate: 0.000905323621649112, activation: LeakyReLU(negative_slope=0.01)\n",
            "Using downloaded and verified file: ./data\\train_32x32.mat\n"
          ]
        },
        {
          "output_type": "stream",
          "name": "stderr",
          "text": [
            "[I 2025-02-02 15:26:30,068] Trial 4 finished with value: -41.918766021728516 and parameters: {'activation_fn': <class 'torch.nn.modules.activation.LeakyReLU'>, 'lr': 0.000905323621649112, 'optimizer_fn': <class 'torch.optim.adam.Adam'>}. Best is trial 2 with value: -41.91835403442383.\n"
          ]
        },
        {
          "output_type": "stream",
          "name": "stdout",
          "text": [
            "Trial 5 - Learning Rate: 0.004014154240902336, activation: Tanh()\n",
            "Using downloaded and verified file: ./data\\train_32x32.mat\n"
          ]
        },
        {
          "output_type": "stream",
          "name": "stderr",
          "text": [
            "[I 2025-02-02 15:29:59,818] Trial 5 finished with value: -41.918888092041016 and parameters: {'activation_fn': <class 'torch.nn.modules.activation.Tanh'>, 'lr': 0.004014154240902336, 'optimizer_fn': <class 'torch.optim.rmsprop.RMSprop'>}. Best is trial 2 with value: -41.91835403442383.\n"
          ]
        },
        {
          "output_type": "stream",
          "name": "stdout",
          "text": [
            "Trial 6 - Learning Rate: 0.004933492542814863, activation: ReLU()\n",
            "Using downloaded and verified file: ./data\\train_32x32.mat\n"
          ]
        },
        {
          "output_type": "stream",
          "name": "stderr",
          "text": [
            "[I 2025-02-02 15:33:13,430] Trial 6 finished with value: -41.91892623901367 and parameters: {'activation_fn': <class 'torch.nn.modules.activation.ReLU'>, 'lr': 0.004933492542814863, 'optimizer_fn': <class 'torch.optim.sgd.SGD'>}. Best is trial 2 with value: -41.91835403442383.\n"
          ]
        },
        {
          "output_type": "stream",
          "name": "stdout",
          "text": [
            "Trial 7 - Learning Rate: 0.002599616586949365, activation: ReLU()\n",
            "Using downloaded and verified file: ./data\\train_32x32.mat\n"
          ]
        },
        {
          "output_type": "stream",
          "name": "stderr",
          "text": [
            "[I 2025-02-02 15:36:48,282] Trial 7 finished with value: -41.91895294189453 and parameters: {'activation_fn': <class 'torch.nn.modules.activation.ReLU'>, 'lr': 0.002599616586949365, 'optimizer_fn': <class 'torch.optim.adam.Adam'>}. Best is trial 2 with value: -41.91835403442383.\n"
          ]
        },
        {
          "output_type": "stream",
          "name": "stdout",
          "text": [
            "Trial 8 - Learning Rate: 0.004967445478283983, activation: LeakyReLU(negative_slope=0.01)\n",
            "Using downloaded and verified file: ./data\\train_32x32.mat\n"
          ]
        },
        {
          "output_type": "stream",
          "name": "stderr",
          "text": [
            "[I 2025-02-02 15:40:19,221] Trial 8 finished with value: -41.9189567565918 and parameters: {'activation_fn': <class 'torch.nn.modules.activation.LeakyReLU'>, 'lr': 0.004967445478283983, 'optimizer_fn': <class 'torch.optim.rmsprop.RMSprop'>}. Best is trial 2 with value: -41.91835403442383.\n"
          ]
        },
        {
          "output_type": "stream",
          "name": "stdout",
          "text": [
            "Trial 9 - Learning Rate: 0.003095565192984445, activation: ReLU()\n",
            "Using downloaded and verified file: ./data\\train_32x32.mat\n"
          ]
        },
        {
          "output_type": "stream",
          "name": "stderr",
          "text": [
            "[I 2025-02-02 15:43:40,790] Trial 9 finished with value: -41.91774368286133 and parameters: {'activation_fn': <class 'torch.nn.modules.activation.ReLU'>, 'lr': 0.003095565192984445, 'optimizer_fn': <class 'torch.optim.sgd.SGD'>}. Best is trial 9 with value: -41.91774368286133.\n"
          ]
        },
        {
          "output_type": "stream",
          "name": "stdout",
          "text": [
            "Best hyperparameters: {'activation_fn': <class 'torch.nn.modules.activation.ReLU'>, 'lr': 0.003095565192984445, 'optimizer_fn': <class 'torch.optim.sgd.SGD'>}\n"
          ]
        }
      ]
    }
  ]
}